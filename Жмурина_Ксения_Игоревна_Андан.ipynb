{
  "nbformat": 4,
  "nbformat_minor": 0,
  "metadata": {
    "colab": {
      "provenance": []
    },
    "kernelspec": {
      "name": "python3",
      "display_name": "Python 3"
    },
    "language_info": {
      "name": "python"
    }
  },
  "cells": [
    {
      "cell_type": "code",
      "execution_count": null,
      "metadata": {
        "id": "XTRVQVBtVCkO"
      },
      "outputs": [],
      "source": [
        "%matplotlib inline\n",
        "import numpy as np\n",
        "import pandas as pd\n",
        "import matplotlib.pyplot as plt\n",
        "import seaborn as sns"
      ]
    },
    {
      "cell_type": "markdown",
      "source": [
        "# 1. Python *(2 points)*"
      ],
      "metadata": {
        "id": "H1zI6gVUjhwv"
      }
    },
    {
      "cell_type": "markdown",
      "source": [
        "**Task 1** *(0.5 points)*\\\n",
        "Enter nonzero numbers a, d and N. Find the sum of the first N members of harmonic sequence with the first member denominator a"
      ],
      "metadata": {
        "id": "-vcJqBM0WaZP"
      }
    },
    {
      "cell_type": "code",
      "source": [
        "def find_sum(a: int, d: int, N: int) -> float:\n",
        "    result = 0;\n",
        "    for i in range(N + 1):\n",
        "        result += 11 / (a + i * d)\n",
        "    return result\n",
        "\n",
        "a = int(input())\n",
        "d = int(input())\n",
        "N = int(input())\n",
        "if a == 0 or d == 0 or N == 0:\n",
        "    print(\"Numbers shouldnt be zero\")\n",
        "else:\n",
        "    print(find_sum(a, d, N))"
      ],
      "metadata": {
        "colab": {
          "base_uri": "https://localhost:8080/"
        },
        "id": "qY8J7eHPWqsQ",
        "outputId": "a94750ae-41f7-4975-ae37-92adc3d99833"
      },
      "execution_count": null,
      "outputs": [
        {
          "output_type": "stream",
          "name": "stdout",
          "text": [
            "1\n",
            "1\n",
            "10\n",
            "3.0198773448773446\n"
          ]
        }
      ]
    },
    {
      "cell_type": "markdown",
      "source": [
        "**Task 2** *(0.5 points)*\\\n",
        "Enter an integer number N. Check if it is a palindrome number without converting it to the string. It means that it can be read equally from left to right and from right to back."
      ],
      "metadata": {
        "id": "2GoqMe7NbFB4"
      }
    },
    {
      "cell_type": "code",
      "source": [
        "def check_palindrome(N):\n",
        "    if N < 0:\n",
        "        return False\n",
        "    reverse_num = 0\n",
        "    original_num = N\n",
        "\n",
        "    while N != 0:\n",
        "        last_digit = N % 10\n",
        "        reverse_num = (reverse_num * 10) + last_digit\n",
        "        N //= 10\n",
        "\n",
        "    return original_num == reverse_num\n",
        "\n",
        "for N in [3, 81, 111, 113, 810, 2022, 4774, 51315, 611816]:\n",
        "    print(N, check_palindrome(N))"
      ],
      "metadata": {
        "colab": {
          "base_uri": "https://localhost:8080/"
        },
        "id": "dKql1zB5byij",
        "outputId": "f0bbe4e6-1799-4af5-e0e2-6dc74d646e70"
      },
      "execution_count": null,
      "outputs": [
        {
          "output_type": "stream",
          "name": "stdout",
          "text": [
            "3 True\n",
            "81 False\n",
            "111 True\n",
            "113 False\n",
            "810 False\n",
            "2022 False\n",
            "4774 True\n",
            "51315 True\n",
            "611816 False\n"
          ]
        }
      ]
    },
    {
      "cell_type": "markdown",
      "source": [
        "**Task 3** *(0.5 points)*\\\n",
        "Find the first N palindrome numbers starting from 42 (you may use the function from the precious task)."
      ],
      "metadata": {
        "id": "OfBaHctwdBtK"
      }
    },
    {
      "cell_type": "code",
      "source": [
        "def check_palindrome(a):\n",
        "    if a < 0:\n",
        "        return False\n",
        "    reverse_num = 0\n",
        "    original_num = a\n",
        "\n",
        "    while a != 0:\n",
        "        last_digit = a % 10\n",
        "        reverse_num = (reverse_num * 10) + last_digit\n",
        "        a //= 10\n",
        "\n",
        "    return original_num == reverse_num\n",
        "\n",
        "N = int(input())\n",
        "if N < 1:\n",
        "    print(\"Enter the number bigger 0\")\n",
        "else:\n",
        "    a = 42\n",
        "    count = 0\n",
        "    while count != N:\n",
        "        if(check_palindrome(a)):\n",
        "            print(a, \" \")\n",
        "            count += 1\n",
        "        a += 1"
      ],
      "metadata": {
        "colab": {
          "base_uri": "https://localhost:8080/"
        },
        "id": "RRYewTo7dIja",
        "outputId": "231a4318-4dc5-429b-c36e-6bf545342344"
      },
      "execution_count": null,
      "outputs": [
        {
          "output_type": "stream",
          "name": "stdout",
          "text": [
            "10\n",
            "44  \n",
            "55  \n",
            "66  \n",
            "77  \n",
            "88  \n",
            "99  \n",
            "101  \n",
            "111  \n",
            "121  \n",
            "131  \n"
          ]
        }
      ]
    },
    {
      "cell_type": "markdown",
      "source": [
        "**Task 4** *(0.5 points)*\\\n",
        "There are numbers: a, b, c. Without using functions min, max and other functions, find the median number."
      ],
      "metadata": {
        "id": "gNJk3Si0e8JW"
      }
    },
    {
      "cell_type": "code",
      "source": [
        "from random import randint\n",
        "\n",
        "def find_median(a, b, c):\n",
        "    minn = -101\n",
        "    maxx = 101\n",
        "    if a >= b and a >= c:\n",
        "        maxx = a\n",
        "    if a <= b and a <= c:\n",
        "        minn = a\n",
        "    if b >= a and b >= c:\n",
        "        maxx = b\n",
        "    if b <= a and b <= c:\n",
        "        minn = b\n",
        "    if c >= a and c >= b:\n",
        "        maxx = c\n",
        "    if c <= a and c <= b:\n",
        "        minn = c\n",
        "    result = a + b + c - minn - maxx\n",
        "    return result\n",
        "\n",
        "for i in range(10):\n",
        "\n",
        "    a = randint(-100, 100)\n",
        "    b = randint(-100, 100)\n",
        "    c = randint(-100, 100)\n",
        "\n",
        "    print(a, b, c, '\\tMedian:', find_median(a, b, c))"
      ],
      "metadata": {
        "colab": {
          "base_uri": "https://localhost:8080/"
        },
        "id": "NxdjJbs2fDYW",
        "outputId": "ee384be5-6f07-488e-a4ff-f052826b344d"
      },
      "execution_count": null,
      "outputs": [
        {
          "output_type": "stream",
          "name": "stdout",
          "text": [
            "45 41 9 \tMedian: 41\n",
            "49 -34 -2 \tMedian: -2\n",
            "-51 8 -77 \tMedian: -51\n",
            "-8 5 21 \tMedian: 5\n",
            "0 34 58 \tMedian: 34\n",
            "98 68 -84 \tMedian: 68\n",
            "-93 6 -67 \tMedian: -67\n",
            "-76 -36 8 \tMedian: -36\n",
            "-29 6 25 \tMedian: 6\n",
            "5 47 -72 \tMedian: 5\n"
          ]
        }
      ]
    },
    {
      "cell_type": "markdown",
      "source": [
        "# 2. Numpy *(4 points)*"
      ],
      "metadata": {
        "id": "xMbzbC-6jnq_"
      }
    },
    {
      "cell_type": "markdown",
      "source": [
        "**Task 1** *(0.5 points)*\\\n",
        "Create a random array from Gaussian distribution with length of 12 and with sum of its elements equal to 15. Distribution shall be left Gaussian"
      ],
      "metadata": {
        "id": "NvWWfRfAju27"
      }
    },
    {
      "cell_type": "code",
      "source": [
        "length = 12\n",
        "target_sum = 15\n",
        "\n",
        "my_array = np.random.randn(length)\n",
        "my_array -= np.min(my_array) - 1\n",
        "\n",
        "my_array *= target_sum / np.sum(my_array)\n",
        "\n",
        "print(f'Length: {len(my_array)}')\n",
        "print(f'Sum of elements: {np.sum(my_array)}')"
      ],
      "metadata": {
        "colab": {
          "base_uri": "https://localhost:8080/"
        },
        "id": "Bjns1T21j9Mp",
        "outputId": "837ce7d9-0113-419f-c2ec-efb772e53cad"
      },
      "execution_count": null,
      "outputs": [
        {
          "output_type": "stream",
          "name": "stdout",
          "text": [
            "Length: 12\n",
            "Sum of elements: 15.000000000000004\n"
          ]
        }
      ]
    },
    {
      "cell_type": "markdown",
      "source": [
        "**Task 2** *(0.5 points)*\\\n",
        "Create two random arrays a and b with the same length.\n",
        "\n",
        "Calculate the following distances between the arrays without using any special function. You may only use basic numpy operations (np.linalg.* and other high-level ones are prohibited)/"
      ],
      "metadata": {
        "id": "3Q5K2dBxkpn9"
      }
    },
    {
      "cell_type": "code",
      "source": [
        "def calculate_manhattan(a, b):\n",
        "    abs_diff = np.abs(a - b)\n",
        "    distance = np.sum(abs_diff)\n",
        "    return distance\n",
        "\n",
        "def calculate_euclidean(a, b):\n",
        "    squared_diff = (a - b) ** 2\n",
        "    squared_diff_sum = np.sum(squared_diff)\n",
        "    distance = np.sqrt(squared_diff_sum)\n",
        "    return distance\n",
        "\n",
        "def calculate_chebyshev(a, b):\n",
        "    abs_diff = np.abs(a - b)\n",
        "    distance = np.max(abs_diff)\n",
        "    return distance\n",
        "\n",
        "def calculate_cosine(a, b):\n",
        "    dot_pr = np.sum(a * b)\n",
        "    norm_a = np.sqrt(np.sum(a * a))\n",
        "    norm_b = np.sqrt(np.sum(b * b))\n",
        "    distance = 1 - (dot_pr / (norm_a * norm_b))\n",
        "    return distance\n",
        "\n",
        "a = np.random.randn(10)\n",
        "b = np.random.randn(10)\n",
        "print(f'Manhattan distance: {calculate_manhattan(a, b)}')\n",
        "print(f'Euclidean distance: {calculate_euclidean(a, b)}')\n",
        "print(f'Chebyshev distance: {calculate_chebyshev(a, b)}')\n",
        "print(f'Cosine distance: {calculate_cosine(a, b)}')"
      ],
      "metadata": {
        "colab": {
          "base_uri": "https://localhost:8080/"
        },
        "id": "HjkHYn84k9Ys",
        "outputId": "06b5d1ad-febf-411c-e6e9-4be87febc967"
      },
      "execution_count": null,
      "outputs": [
        {
          "output_type": "stream",
          "name": "stdout",
          "text": [
            "Manhattan distance: 15.77769859250228\n",
            "Euclidean distance: 5.781064027135154\n",
            "Chebyshev distance: 3.1000312920380284\n",
            "Cosine distance: 1.6057878947666446\n"
          ]
        }
      ]
    },
    {
      "cell_type": "markdown",
      "source": [
        "**Task 3** *(0.5 points)*\\\n",
        "Create a random array of integers with length of 42. Transform the array so that:\n",
        "\n",
        "- Maximum element(s) value is 10\n",
        "- Minimum element(s) value is -6\n",
        "- Other values are in interval (-6; 10) without changing the relative order"
      ],
      "metadata": {
        "id": "UwUw2hdrnQjn"
      }
    },
    {
      "cell_type": "code",
      "source": [
        "def transform(array):\n",
        "    maxx = np.max(array)\n",
        "    minn = np.min(array)\n",
        "\n",
        "    transformed_array = np.where(array == maxx, 10, array)\n",
        "    transformed_array = np.where(transformed_array == minn, -6, transformed_array)\n",
        "\n",
        "    scaled_array = -6 + (transformed_array - minn) * 16.0 / (maxx - minn)\n",
        "\n",
        "    return scaled_array\n",
        "\n",
        "my_array = np.random.randn(42)\n",
        "my_array = transform(my_array)\n",
        "print(f'Min: {np.min(my_array)}')\n",
        "print(f'Max: {np.max(my_array)}')\n",
        "print('Array:')\n",
        "print(my_array)"
      ],
      "metadata": {
        "id": "K-6dyZrhngyY",
        "colab": {
          "base_uri": "https://localhost:8080/"
        },
        "outputId": "231b882e-42f4-4bdf-c3dd-15f94946c76a"
      },
      "execution_count": 35,
      "outputs": [
        {
          "output_type": "stream",
          "name": "stdout",
          "text": [
            "Min: -14.29484188835973\n",
            "Max: 30.915562790716677\n",
            "Array:\n",
            "[-2.85724398e+00  4.62645642e+00  3.18022495e+00  2.89903068e+00\n",
            "  1.85353641e+00  4.00579050e+00  3.09155628e+01  3.03515045e+00\n",
            "  4.32952068e+00  5.06563492e+00  5.74070839e+00  1.18813647e+00\n",
            "  1.18030968e+00  1.54879078e+00 -4.19620660e+00  4.36365402e+00\n",
            "  3.89748629e+00  1.20312901e+00  3.54844492e+00  1.04782678e+00\n",
            "  1.47950219e-02  1.64910845e+00 -2.06583951e+00  1.09919967e+00\n",
            " -1.42948419e+01  5.18704648e-01  7.59083710e+00  7.29697469e-01\n",
            "  6.71822922e+00  8.10676533e+00  6.48548653e+00  2.68397326e+00\n",
            "  2.24935642e+00  1.38797823e+00  2.14655661e+00  5.04999837e+00\n",
            "  5.18116230e+00  3.88838596e+00 -4.38400076e-01  4.67885092e+00\n",
            "  6.13555374e-01 -1.75786669e+00]\n"
          ]
        }
      ]
    },
    {
      "cell_type": "markdown",
      "source": [
        "**Task 4** *(0.5 points)*\\\n",
        "Create an array with shape of **10 х 3** with integers from [-12, 4]. Find a column that contains the minimum element of the array."
      ],
      "metadata": {
        "id": "OORb1y8TgxAu"
      }
    },
    {
      "cell_type": "code",
      "source": [
        "import numpy as np\n",
        "\n",
        "my_array = np.random.randint(-12, 5, size=(10, 3))\n",
        "selected_column_index = np.argmin(my_array, axis=1)\n",
        "selected_column = my_array[np.arange(my_array.shape[0]), selected_column_index]\n",
        "\n",
        "print('Shape: ', my_array.shape)\n",
        "print('Array:')\n",
        "print(my_array)\n",
        "print(f'Selected column: {selected_column}')"
      ],
      "metadata": {
        "colab": {
          "base_uri": "https://localhost:8080/"
        },
        "id": "wQLg46XFg68t",
        "outputId": "cee1065d-0467-428c-9500-f33f709e860c"
      },
      "execution_count": 7,
      "outputs": [
        {
          "output_type": "stream",
          "name": "stdout",
          "text": [
            "Shape:  (10, 3)\n",
            "Array:\n",
            "[[ -2  -7   3]\n",
            " [-11   0  -6]\n",
            " [ -3 -10  -3]\n",
            " [ -8 -10  -1]\n",
            " [-10 -10 -12]\n",
            " [-12 -11  -2]\n",
            " [ -2   1  -3]\n",
            " [-10  -9  -2]\n",
            " [ -2  -8   2]\n",
            " [ -6 -11   3]]\n",
            "Selected column: [ -7 -11 -10 -10 -12 -12  -3 -10  -8 -11]\n"
          ]
        }
      ]
    },
    {
      "cell_type": "markdown",
      "source": [
        "**Task 5** *(0.5 points)*\\\n",
        "Replace all missing values in the following array with the most appropriate quantile, explain why you chose it."
      ],
      "metadata": {
        "id": "uocJUJzGi5ea"
      }
    },
    {
      "cell_type": "code",
      "source": [
        "arr = np.random.rand(10)\n",
        "idx = np.random.randint(0, 10, 4)\n",
        "arr[idx] = np.nan\n",
        "\n",
        "print('Array:')\n",
        "print(arr)\n",
        "\n",
        "def replace_missing(arr):\n",
        "    median = np.nanmedian(arr)\n",
        "    arr[np.isnan(arr)] = median\n",
        "    return arr\n",
        "\n",
        "arr = replace_missing(arr)\n",
        "print('Array with no missing values:')\n",
        "print(arr)"
      ],
      "metadata": {
        "colab": {
          "base_uri": "https://localhost:8080/"
        },
        "id": "ISGzjeSNjDtF",
        "outputId": "8a1fffe5-8afc-4b46-a9b2-346c16ad00ab"
      },
      "execution_count": 36,
      "outputs": [
        {
          "output_type": "stream",
          "name": "stdout",
          "text": [
            "Array:\n",
            "[0.08006885 0.90951406 0.37245272 0.08029514 0.73828851        nan\n",
            " 0.77228816 0.09039179        nan 0.57951541]\n",
            "Array with no missing values:\n",
            "[0.08006885 0.90951406 0.37245272 0.08029514 0.73828851 0.47598406\n",
            " 0.77228816 0.09039179 0.47598406 0.57951541]\n"
          ]
        }
      ]
    },
    {
      "cell_type": "markdown",
      "source": [
        "Для замены отсутствующих значений в массиве, использую наиболее часто используемый метод - замена медианой."
      ],
      "metadata": {
        "id": "qw8hXq93357S"
      }
    },
    {
      "cell_type": "markdown",
      "source": [
        "**Task 6** *(0.5 points)*\\\n",
        "Create a function which takes an image X (3D array of the shape (n, m, 3)) as an input and returns the median and std for every channel (you should get a vector of shape 3, RGB)."
      ],
      "metadata": {
        "id": "1vMAio2UjOgi"
      }
    },
    {
      "cell_type": "code",
      "source": [
        "def stats_channel(X):\n",
        "    median = np.median(X, axis=(0, 1))\n",
        "    std = np.std(X, axis=(0, 1))\n",
        "    return median, std\n",
        "n = 19\n",
        "m = 23\n",
        "X = np.random.randint(-11, 8, size=(n, m, 3))\n",
        "print(stats_channel(X))"
      ],
      "metadata": {
        "colab": {
          "base_uri": "https://localhost:8080/"
        },
        "id": "m71fJlG1jYJZ",
        "outputId": "e2fd49ec-4376-4229-fff6-b25658760291"
      },
      "execution_count": 8,
      "outputs": [
        {
          "output_type": "stream",
          "name": "stdout",
          "text": [
            "(array([-2., -2., -1.]), array([5.45166834, 5.48698666, 5.58857389]))\n"
          ]
        }
      ]
    },
    {
      "cell_type": "markdown",
      "source": [
        "**Task 7** *(1 points)*\\\n",
        "Create a function which takes a 3D matrix X as an input and returns all its unique values along the first axis."
      ],
      "metadata": {
        "id": "XxHBlrfKjxy8"
      }
    },
    {
      "cell_type": "code",
      "source": [
        "def get_unique_values(X):\n",
        "    result = np.unique(X, axis=0)\n",
        "    return result\n",
        "\n",
        "X =  np.random.randint(4, 6, size=(n, 3, 3))\n",
        "print('Matrix:')\n",
        "print(X)\n",
        "print('Unique :')\n",
        "get_unique_values(X)"
      ],
      "metadata": {
        "colab": {
          "base_uri": "https://localhost:8080/"
        },
        "id": "W__J9cz_j5eU",
        "outputId": "3971b323-f951-480a-f0cb-2fede5bffaf7"
      },
      "execution_count": 14,
      "outputs": [
        {
          "output_type": "stream",
          "name": "stdout",
          "text": [
            "Matrix:\n",
            "[[[4 4 4]\n",
            "  [5 4 4]\n",
            "  [5 5 5]]\n",
            "\n",
            " [[4 4 4]\n",
            "  [5 5 5]\n",
            "  [4 5 5]]\n",
            "\n",
            " [[5 4 4]\n",
            "  [5 5 4]\n",
            "  [5 4 4]]\n",
            "\n",
            " [[5 4 4]\n",
            "  [5 4 5]\n",
            "  [4 4 5]]\n",
            "\n",
            " [[5 5 4]\n",
            "  [4 4 5]\n",
            "  [4 4 5]]\n",
            "\n",
            " [[4 4 4]\n",
            "  [4 5 5]\n",
            "  [5 5 5]]\n",
            "\n",
            " [[5 5 5]\n",
            "  [5 4 5]\n",
            "  [4 5 4]]\n",
            "\n",
            " [[4 4 5]\n",
            "  [4 4 4]\n",
            "  [4 5 4]]\n",
            "\n",
            " [[4 4 4]\n",
            "  [5 4 5]\n",
            "  [4 4 5]]\n",
            "\n",
            " [[4 4 5]\n",
            "  [5 5 5]\n",
            "  [5 5 5]]\n",
            "\n",
            " [[5 5 5]\n",
            "  [4 4 4]\n",
            "  [4 4 5]]\n",
            "\n",
            " [[4 4 5]\n",
            "  [5 4 5]\n",
            "  [4 5 4]]\n",
            "\n",
            " [[5 5 4]\n",
            "  [4 5 5]\n",
            "  [5 4 5]]\n",
            "\n",
            " [[4 5 5]\n",
            "  [5 5 5]\n",
            "  [5 5 5]]\n",
            "\n",
            " [[4 5 5]\n",
            "  [4 5 4]\n",
            "  [5 5 4]]\n",
            "\n",
            " [[4 4 4]\n",
            "  [4 5 5]\n",
            "  [4 5 5]]\n",
            "\n",
            " [[5 5 5]\n",
            "  [5 5 5]\n",
            "  [4 4 5]]\n",
            "\n",
            " [[5 5 4]\n",
            "  [5 5 5]\n",
            "  [5 5 5]]\n",
            "\n",
            " [[4 4 4]\n",
            "  [4 5 4]\n",
            "  [4 5 5]]]\n",
            "Unique :\n"
          ]
        },
        {
          "output_type": "execute_result",
          "data": {
            "text/plain": [
              "array([[[4, 4, 4],\n",
              "        [4, 5, 4],\n",
              "        [4, 5, 5]],\n",
              "\n",
              "       [[4, 4, 4],\n",
              "        [4, 5, 5],\n",
              "        [4, 5, 5]],\n",
              "\n",
              "       [[4, 4, 4],\n",
              "        [4, 5, 5],\n",
              "        [5, 5, 5]],\n",
              "\n",
              "       [[4, 4, 4],\n",
              "        [5, 4, 4],\n",
              "        [5, 5, 5]],\n",
              "\n",
              "       [[4, 4, 4],\n",
              "        [5, 4, 5],\n",
              "        [4, 4, 5]],\n",
              "\n",
              "       [[4, 4, 4],\n",
              "        [5, 5, 5],\n",
              "        [4, 5, 5]],\n",
              "\n",
              "       [[4, 4, 5],\n",
              "        [4, 4, 4],\n",
              "        [4, 5, 4]],\n",
              "\n",
              "       [[4, 4, 5],\n",
              "        [5, 4, 5],\n",
              "        [4, 5, 4]],\n",
              "\n",
              "       [[4, 4, 5],\n",
              "        [5, 5, 5],\n",
              "        [5, 5, 5]],\n",
              "\n",
              "       [[4, 5, 5],\n",
              "        [4, 5, 4],\n",
              "        [5, 5, 4]],\n",
              "\n",
              "       [[4, 5, 5],\n",
              "        [5, 5, 5],\n",
              "        [5, 5, 5]],\n",
              "\n",
              "       [[5, 4, 4],\n",
              "        [5, 4, 5],\n",
              "        [4, 4, 5]],\n",
              "\n",
              "       [[5, 4, 4],\n",
              "        [5, 5, 4],\n",
              "        [5, 4, 4]],\n",
              "\n",
              "       [[5, 5, 4],\n",
              "        [4, 4, 5],\n",
              "        [4, 4, 5]],\n",
              "\n",
              "       [[5, 5, 4],\n",
              "        [4, 5, 5],\n",
              "        [5, 4, 5]],\n",
              "\n",
              "       [[5, 5, 4],\n",
              "        [5, 5, 5],\n",
              "        [5, 5, 5]],\n",
              "\n",
              "       [[5, 5, 5],\n",
              "        [4, 4, 4],\n",
              "        [4, 4, 5]],\n",
              "\n",
              "       [[5, 5, 5],\n",
              "        [5, 4, 5],\n",
              "        [4, 5, 4]],\n",
              "\n",
              "       [[5, 5, 5],\n",
              "        [5, 5, 5],\n",
              "        [4, 4, 5]]])"
            ]
          },
          "metadata": {},
          "execution_count": 14
        }
      ]
    },
    {
      "cell_type": "markdown",
      "source": [
        "# 3. Pandas & Visualization *(4 points)*"
      ],
      "metadata": {
        "id": "g4DrSUl8lLhb"
      }
    },
    {
      "cell_type": "markdown",
      "source": [
        "**Task 0** *(0 points)*\\\n",
        "Load the dataset and print first 6 rows"
      ],
      "metadata": {
        "id": "H0uQ4uqHlUFj"
      }
    },
    {
      "cell_type": "code",
      "source": [
        "import pandas as pd\n",
        "\n",
        "dataset_path = '/content/titanic.csv'\n",
        "dataset = pd.read_csv(dataset_path)\n",
        "print(dataset.head(6))"
      ],
      "metadata": {
        "colab": {
          "base_uri": "https://localhost:8080/"
        },
        "id": "AeRzgB0OmJ6n",
        "outputId": "0a795315-e6e2-4ca3-afe6-f788da71e666"
      },
      "execution_count": 16,
      "outputs": [
        {
          "output_type": "stream",
          "name": "stdout",
          "text": [
            "   PassengerId  Survived  Pclass  \\\n",
            "0            1         0       3   \n",
            "1            2         1       1   \n",
            "2            3         1       3   \n",
            "3            4         1       1   \n",
            "4            5         0       3   \n",
            "5            6         0       3   \n",
            "\n",
            "                                                Name     Sex   Age  SibSp  \\\n",
            "0                            Braund, Mr. Owen Harris    male  22.0      1   \n",
            "1  Cumings, Mrs. John Bradley (Florence Briggs Th...  female  38.0      1   \n",
            "2                             Heikkinen, Miss. Laina  female  26.0      0   \n",
            "3       Futrelle, Mrs. Jacques Heath (Lily May Peel)  female  35.0      1   \n",
            "4                           Allen, Mr. William Henry    male  35.0      0   \n",
            "5                                   Moran, Mr. James    male   NaN      0   \n",
            "\n",
            "   Parch            Ticket     Fare Cabin Embarked  \n",
            "0      0         A/5 21171   7.2500   NaN        S  \n",
            "1      0          PC 17599  71.2833   C85        C  \n",
            "2      0  STON/O2. 3101282   7.9250   NaN        S  \n",
            "3      0            113803  53.1000  C123        S  \n",
            "4      0            373450   8.0500   NaN        S  \n",
            "5      0            330877   8.4583   NaN        Q  \n"
          ]
        }
      ]
    },
    {
      "cell_type": "markdown",
      "source": [
        "**Task 1** *(1 points)*\\\n",
        "Answer the following questions:\n",
        "\n",
        "* Are there any missing values? In what columns?\n",
        "* What is the percentage of survived passengers? Are the classes balanced?\n",
        "* Were there more males or females?\n",
        "* What what the least popular port of embarkation?\n",
        "* How many passenger classes (pclass) were there on Tinanic?\n",
        "* What is the overall average ticket fare? And for every passenger class?"
      ],
      "metadata": {
        "id": "Z1bydEF7mxlU"
      }
    },
    {
      "cell_type": "code",
      "source": [
        "missing_values = dataset.isnull().sum()\n",
        "columns_with_missing_values = missing_values[missing_values > 0].index.tolist()\n",
        "print(\"Columns with missing values:\", columns_with_missing_values)"
      ],
      "metadata": {
        "colab": {
          "base_uri": "https://localhost:8080/"
        },
        "id": "0caG0Es6nW2h",
        "outputId": "6cbcc140-700b-4e9f-af48-9aaa2048ac85"
      },
      "execution_count": 17,
      "outputs": [
        {
          "output_type": "stream",
          "name": "stdout",
          "text": [
            "Columns with missing values: ['Age', 'Cabin', 'Embarked']\n"
          ]
        }
      ]
    },
    {
      "cell_type": "markdown",
      "source": [
        "В датасете действительно присутствуют столбцы с пустыми значениями: Age, Cabin, Embarked."
      ],
      "metadata": {
        "id": "e6QdhXKcncxN"
      }
    },
    {
      "cell_type": "code",
      "source": [
        "survived_percentage = (dataset['Survived'].sum() / dataset['Survived'].count()) * 100\n",
        "print(\"Percentage of survived passengers:\", survived_percentage)"
      ],
      "metadata": {
        "colab": {
          "base_uri": "https://localhost:8080/"
        },
        "id": "0FAi7a0RnpcJ",
        "outputId": "41bbdd21-0612-4b55-95be-bcf602daf125"
      },
      "execution_count": 18,
      "outputs": [
        {
          "output_type": "stream",
          "name": "stdout",
          "text": [
            "Percentage of survived passengers: 38.38383838383838\n"
          ]
        }
      ]
    },
    {
      "cell_type": "code",
      "source": [
        "survivors_by_class = dataset.groupby('Pclass')['Survived'].sum()\n",
        "total_survivors = survivors_by_class.sum()\n",
        "is_balanced = (survivors_by_class / total_survivors) >= 0.2\n",
        "print(is_balanced)"
      ],
      "metadata": {
        "colab": {
          "base_uri": "https://localhost:8080/"
        },
        "id": "orjXSXudn0JF",
        "outputId": "29969b40-7de0-4fc2-8fa8-c86f6c62fbb0"
      },
      "execution_count": 20,
      "outputs": [
        {
          "output_type": "stream",
          "name": "stdout",
          "text": [
            "Pclass\n",
            "1    True\n",
            "2    True\n",
            "3    True\n",
            "Name: Survived, dtype: bool\n"
          ]
        }
      ]
    },
    {
      "cell_type": "markdown",
      "source": [
        "Заметим, что процент выживших пассажиров - 38.4 процента\\\n",
        "При этом процент выживших из разных классов сбалансирован"
      ],
      "metadata": {
        "id": "H-30I3QNojhj"
      }
    },
    {
      "cell_type": "code",
      "source": [
        "gender_counts = dataset['Sex'].value_counts()\n",
        "print(\"Number of males and females:\")\n",
        "print(gender_counts)"
      ],
      "metadata": {
        "colab": {
          "base_uri": "https://localhost:8080/"
        },
        "id": "fz1toiwSouRb",
        "outputId": "f8dddd12-7b74-40b4-fad3-2ce259eb5ed7"
      },
      "execution_count": 21,
      "outputs": [
        {
          "output_type": "stream",
          "name": "stdout",
          "text": [
            "Number of males and females:\n",
            "male      577\n",
            "female    314\n",
            "Name: Sex, dtype: int64\n"
          ]
        }
      ]
    },
    {
      "cell_type": "markdown",
      "source": [
        "Данные показывают, что мужчин было больше, чем женщин."
      ],
      "metadata": {
        "id": "-Ew4pSQBo4yK"
      }
    },
    {
      "cell_type": "code",
      "source": [
        "least_popular_port = dataset['Embarked'].value_counts().idxmin()\n",
        "print(\"Least popular port of embarkation:\", least_popular_port)"
      ],
      "metadata": {
        "colab": {
          "base_uri": "https://localhost:8080/"
        },
        "id": "rYUahlohpAXP",
        "outputId": "b2dae115-1a99-4793-c65e-a5697cda93dc"
      },
      "execution_count": 22,
      "outputs": [
        {
          "output_type": "stream",
          "name": "stdout",
          "text": [
            "Least popular port of embarkation: Q\n"
          ]
        }
      ]
    },
    {
      "cell_type": "markdown",
      "source": [
        "Наименнее популярная посадочная лестница: Q"
      ],
      "metadata": {
        "id": "RQ0FiexEpLA1"
      }
    },
    {
      "cell_type": "code",
      "source": [
        "num_passenger_classes = dataset['Pclass'].nunique()\n",
        "print(\"Number of passenger classes:\", num_passenger_classes)"
      ],
      "metadata": {
        "colab": {
          "base_uri": "https://localhost:8080/"
        },
        "id": "yldVCnnHpUFL",
        "outputId": "86c7d605-b95d-4e69-9fde-f5bbf4ddb8b2"
      },
      "execution_count": 24,
      "outputs": [
        {
          "output_type": "stream",
          "name": "stdout",
          "text": [
            "Number of passenger classes: 3\n"
          ]
        }
      ]
    },
    {
      "cell_type": "markdown",
      "source": [
        "На Титанике было 3 класса пассажиров."
      ],
      "metadata": {
        "id": "Axv4rq_wpb3-"
      }
    },
    {
      "cell_type": "code",
      "source": [
        "overall_average_fare = dataset['Fare'].mean()\n",
        "print(\"Overall average ticket fare:\", overall_average_fare)"
      ],
      "metadata": {
        "colab": {
          "base_uri": "https://localhost:8080/"
        },
        "id": "lC1GN7ZcpfnA",
        "outputId": "7d5551e5-9e2b-49a5-bf41-925965c59f45"
      },
      "execution_count": 26,
      "outputs": [
        {
          "output_type": "stream",
          "name": "stdout",
          "text": [
            "Overall average ticket fare: 32.204207968574636\n"
          ]
        }
      ]
    },
    {
      "cell_type": "markdown",
      "source": [
        "Средняя стоимость билета составляла 32.2 доллара"
      ],
      "metadata": {
        "id": "Vomu5dqIpp41"
      }
    },
    {
      "cell_type": "code",
      "source": [
        "average_fare_by_class = dataset.groupby('Pclass')['Fare'].mean()\n",
        "print(\"Average ticket fare by passenger class:\")\n",
        "print(average_fare_by_class)"
      ],
      "metadata": {
        "colab": {
          "base_uri": "https://localhost:8080/"
        },
        "id": "VpStzTpaptj3",
        "outputId": "66f60f9c-82db-447b-f298-65802bf2c49a"
      },
      "execution_count": 27,
      "outputs": [
        {
          "output_type": "stream",
          "name": "stdout",
          "text": [
            "Average ticket fare by passenger class:\n",
            "Pclass\n",
            "1    84.154687\n",
            "2    20.662183\n",
            "3    13.675550\n",
            "Name: Fare, dtype: float64\n"
          ]
        }
      ]
    },
    {
      "cell_type": "markdown",
      "source": [
        "Для каждого класса стоимость билета была соответсвующая: 85.15 для первого класса, 20.66 для среднего и 13.68 для третьего класса."
      ],
      "metadata": {
        "id": "-vPHrpp0py6j"
      }
    },
    {
      "cell_type": "markdown",
      "source": [
        "**Task 2** *(0.5 points)*\\\n",
        "Visualize age distribution.\n",
        "* What is the minimal and maximum ages of the passengers? Visualize it on the plot\n",
        "* What is the median age? And among males and females separately? Visualize it on the separate plot\n",
        "* Make conclusions about what you see on the plots"
      ],
      "metadata": {
        "id": "fBazWAHnp-QV"
      }
    },
    {
      "cell_type": "code",
      "source": [
        "import matplotlib.pyplot as plt\n",
        "\n",
        "min_age = dataset['Age'].min()\n",
        "max_age = dataset['Age'].max()\n",
        "\n",
        "plt.figure(figsize=(8, 6))\n",
        "plt.hist(dataset['Age'].dropna(), bins=20, color='skyblue', edgecolor='black')\n",
        "plt.xlabel(\"Age\")\n",
        "plt.ylabel(\"Frequency\")\n",
        "plt.title(\"Age Distribution\")\n",
        "plt.grid(True)\n",
        "plt.show()\n",
        "\n",
        "print(\"Minimum age:\", min_age)\n",
        "print(\"Maximum age:\", max_age)\n",
        "\n",
        "median_age = dataset['Age'].median()\n",
        "median_male_age = dataset[dataset['Sex'] == 'male']['Age'].median()\n",
        "median_female_age = dataset[dataset['Sex'] == 'female']['Age'].median()\n",
        "\n",
        "plt.figure(figsize=(10, 6))\n",
        "plt.subplot(1, 2, 1)\n",
        "dataset[dataset['Sex'] == 'male']['Age'].dropna().plot(kind='hist', bins=20, color='skyblue', edgecolor='black')\n",
        "plt.title('Age Distribution - Male')\n",
        "plt.xlabel('Age')\n",
        "plt.grid(True)\n",
        "\n",
        "plt.subplot(1, 2, 2)\n",
        "dataset[dataset['Sex'] == 'female']['Age'].dropna().plot(kind='hist', bins=20, color='pink', edgecolor='black')\n",
        "plt.title('Age Distribution - Female')\n",
        "plt.xlabel('Age')\n",
        "plt.grid(True)\n",
        "plt.tight_layout()\n",
        "plt.show()\n",
        "\n",
        "print(\"Overall Median Age:\", median_age)\n",
        "print(\"Male Median Age:\", median_male_age)\n",
        "print(\"Female Median Age:\", median_female_age)"
      ],
      "metadata": {
        "colab": {
          "base_uri": "https://localhost:8080/",
          "height": 1000
        },
        "id": "1Fjf94-4qigo",
        "outputId": "19ae0348-5051-4cf7-cac5-159226dce3a4"
      },
      "execution_count": 39,
      "outputs": [
        {
          "output_type": "display_data",
          "data": {
            "text/plain": [
              "<Figure size 800x600 with 1 Axes>"
            ],
            "image/png": "[encoded data removed]"
          },
          "metadata": {}
        },
        {
          "output_type": "stream",
          "name": "stdout",
          "text": [
            "Minimum age: 0.42\n",
            "Maximum age: 80.0\n"
          ]
        },
        {
          "output_type": "display_data",
          "data": {
            "text/plain": [
              "<Figure size 1000x600 with 2 Axes>"
            ],
            "image/png": "[encoded data removed]"
          },
          "metadata": {}
        },
        {
          "output_type": "stream",
          "name": "stdout",
          "text": [
            "Overall Median Age: 28.0\n",
            "Male Median Age: 29.0\n",
            "Female Median Age: 27.0\n"
          ]
        }
      ]
    },
    {
      "cell_type": "markdown",
      "source": [
        "Заметим по графикам полученные значения:\\\n",
        "Минимальный возраст: Примерно полгода\\\n",
        "Максимальный возраст: 80\\\n",
        "Медиана возраста: 28\\\n",
        "Медиана среди мужчин: 29\\\n",
        "Медиана среди женщин: 27\\\n",
        "Также можно заметить, что люди в возрасе от 15 до 30 лет преобладают, причем у обоих полов, но среди женщин больше старых людей, чем среди мужчин."
      ],
      "metadata": {
        "id": "EexsidT0rgZy"
      }
    },
    {
      "cell_type": "markdown",
      "source": [
        "**Task 3** *(1 points)*\\\n",
        "Find all the titles of the passengers (example, Capt., Mr.,Mme.), which are written in the column Name, and answer the following questions:\n",
        "\n",
        "* How many are there unique titles?\n",
        "* How many are there passengers with every title?\n",
        "* What is the most popular man's title? And woman's title?"
      ],
      "metadata": {
        "id": "S6LwpKGKsLqw"
      }
    },
    {
      "cell_type": "code",
      "source": [
        "dataset['Title'] = dataset['Name'].str.extract(' ([A-Za-z]+)\\.', expand=False)\n",
        "\n",
        "total_unique_titles = dataset['Title'].nunique()\n",
        "title_counts = dataset['Title'].value_counts()\n",
        "most_popular_mans_title = dataset.loc[dataset['Sex'] == 'male', 'Title'].value_counts().idxmax()\n",
        "most_popular_womans_title = dataset.loc[dataset['Sex'] == 'female', 'Title'].value_counts().idxmax()\n",
        "\n",
        "print(\"Total unique titles:\", total_unique_titles)\n",
        "print(\"Number of passengers with each title:\")\n",
        "print(title_counts)\n",
        "print(\"Most popular man's title:\", most_popular_mans_title)\n",
        "print(\"Most popular woman's title:\", most_popular_womans_title)"
      ],
      "metadata": {
        "colab": {
          "base_uri": "https://localhost:8080/"
        },
        "id": "43br5om1sxyY",
        "outputId": "554de165-92a2-410c-8db2-9ef9faae24b6"
      },
      "execution_count": 34,
      "outputs": [
        {
          "output_type": "stream",
          "name": "stdout",
          "text": [
            "Total unique titles: 17\n",
            "Number of passengers with each title:\n",
            "Mr          517\n",
            "Miss        182\n",
            "Mrs         125\n",
            "Master       40\n",
            "Dr            7\n",
            "Rev           6\n",
            "Mlle          2\n",
            "Major         2\n",
            "Col           2\n",
            "Countess      1\n",
            "Capt          1\n",
            "Ms            1\n",
            "Sir           1\n",
            "Lady          1\n",
            "Mme           1\n",
            "Don           1\n",
            "Jonkheer      1\n",
            "Name: Title, dtype: int64\n",
            "Most popular man's title: Mr\n",
            "Most popular woman's title: Miss\n"
          ]
        }
      ]
    },
    {
      "cell_type": "markdown",
      "source": [
        "Всего уникальных титулов: 17\\\n",
        "Число пассжаиров с каждым титулом:\\\n",
        "Mr          517\\\n",
        "Miss        182\\\n",
        "Mrs         125\\\n",
        "Master       40\\\n",
        "Dr            7\\\n",
        "Rev           6\\\n",
        "Mlle          2\\\n",
        "Major         2\\\n",
        "Col           2\\\n",
        "Countess      1\\\n",
        "Capt          1\\\n",
        "Ms            1\\\n",
        "Sir           1\\\n",
        "Lady          1\\\n",
        "Mme           1\\\n",
        "Don           1\\\n",
        "Jonkheer      1\\\n",
        "Самый популярный мужской титул: Mr\\\n",
        "Самый популярный женский титул: Miss"
      ],
      "metadata": {
        "id": "_7IAnUVcuWEh"
      }
    },
    {
      "cell_type": "markdown",
      "source": [
        "**Task 4** *(0.5 points)*\\\n",
        "Is there correlation between pclass and ticket price? Calculate mean price for each class and visualize price distribution for each class as well. Make conclusions about what you see on the plot\n",
        "\n",
        "Hint: you could make one or several plot types i.e. box, violine, pair, histogram (see additional notebooks for Seminar 1 \"Visualization with Seaborn\"). Main point here is to choose plots wisely and make meaningful conclusions"
      ],
      "metadata": {
        "id": "cNu72sIFuvBU"
      }
    },
    {
      "cell_type": "code",
      "source": [
        "import seaborn as sns\n",
        "\n",
        "correlation = dataset['Pclass'].corr(dataset['Fare'])\n",
        "print(f\"Correlation pclass и fare: {correlation:.2f}\")\n",
        "\n",
        "ave_fares = dataset.groupby('Pclass')['Fare'].mean()\n",
        "print(ave_fares)\n",
        "\n",
        "plt.figure(figsize=(10, 6))\n",
        "sns.boxplot(x='Pclass', y='Fare', data=dataset)\n",
        "plt.title('Distribution of ticket prices by class')\n",
        "plt.ylabel('Ticket fare')\n",
        "plt.xlabel('Passenger class')\n",
        "plt.show()"
      ],
      "metadata": {
        "colab": {
          "base_uri": "https://localhost:8080/",
          "height": 668
        },
        "id": "ZYSmjL7Y4lKt",
        "outputId": "170d70b0-e648-4b26-9110-c8c47b3b293b"
      },
      "execution_count": 42,
      "outputs": [
        {
          "output_type": "stream",
          "name": "stdout",
          "text": [
            "Correlation pclass и fare: -0.55\n",
            "Pclass\n",
            "1    84.154687\n",
            "2    20.662183\n",
            "3    13.675550\n",
            "Name: Fare, dtype: float64\n"
          ]
        },
        {
          "output_type": "display_data",
          "data": {
            "text/plain": [
              "<Figure size 1000x600 with 1 Axes>"
            ],
            "image/png": "[encoded data removed]"
          },
          "metadata": {}
        }
      ]
    },
    {
      "cell_type": "markdown",
      "source": [
        "Корреляция между классом пассажира и ценой билета отрицательная, так как первый класс должен быть дороже третьего.\\\n",
        "У первого класса заметен разброс цен, вероятно, присутствовали некоторые подкатегории билетов.\\\n",
        "Очевидно по графику, медиана цены билета наибольшая для первого класса, но самая маленькая для третьего."
      ],
      "metadata": {
        "id": "8Mzv2Osd57Vx"
      }
    },
    {
      "cell_type": "markdown",
      "source": [
        "**Task 5** *(0.5 points)*\\\n",
        "The same question as in task 4 about correlation between embarked and ticket priсe."
      ],
      "metadata": {
        "id": "ys1vCrg864K9"
      }
    },
    {
      "cell_type": "code",
      "source": [
        "ave_fares = dataset.groupby('Embarked')['Fare'].mean()\n",
        "print(ave_fares)\n",
        "\n",
        "plt.figure(figsize=(10, 6))\n",
        "sns.boxplot(x='Embarked', y='Fare', data=dataset)\n",
        "plt.title('Distribution of ticket prices by ports of embarkation')\n",
        "plt.ylabel('Ticket fare')\n",
        "plt.xlabel('Port of embarkation')\n",
        "plt.show()"
      ],
      "metadata": {
        "colab": {
          "base_uri": "https://localhost:8080/",
          "height": 651
        },
        "id": "vlC7Mvq86-yk",
        "outputId": "c70116b6-1b8c-4475-e9a2-1a34ee0d6af1"
      },
      "execution_count": 43,
      "outputs": [
        {
          "output_type": "stream",
          "name": "stdout",
          "text": [
            "Embarked\n",
            "C    59.954144\n",
            "Q    13.276030\n",
            "S    27.079812\n",
            "Name: Fare, dtype: float64\n"
          ]
        },
        {
          "output_type": "display_data",
          "data": {
            "text/plain": [
              "<Figure size 1000x600 with 1 Axes>"
            ],
            "image/png": "[encoded data removed]"
          },
          "metadata": {}
        }
      ]
    },
    {
      "cell_type": "markdown",
      "source": [
        "Больше всего пассажиров воспользовалось портом С. При этом именно там в том числе продавались самые дорогие билеты. Самые дешевые продавались в порте Q, где при этом продано было меньше всего."
      ],
      "metadata": {
        "id": "YTKq3oqF7Tl5"
      }
    },
    {
      "cell_type": "markdown",
      "source": [
        "**Task 6** *(0.5 points)*\\\n",
        "Visualize age distribution for survived and not survived passengers separately and calculate the mean age for each class. Are they different? Provide the same visualization for males and females separately. Make conclusions about what you see on the plots"
      ],
      "metadata": {
        "id": "oZMX8rCY79h_"
      }
    },
    {
      "cell_type": "code",
      "source": [
        "plt.figure(figsize=(12, 6))\n",
        "sns.histplot(dataset[dataset['Survived'] == 1]['Age'].dropna(), color='green', label='Survived', kde=True, bins=30)\n",
        "sns.histplot(dataset[dataset['Survived'] == 0]['Age'].dropna(), color='red', label='Not Survived', kde=True, bins=30)\n",
        "plt.title('Age distribution by survival rate')\n",
        "plt.xlabel('Age')\n",
        "plt.ylabel('Quantity')\n",
        "plt.legend()\n",
        "plt.show()\n",
        "\n",
        "ave_age_survived = dataset[dataset['Survived'] == 1]['Age'].mean()\n",
        "ave_age_not_survived = dataset[dataset['Survived'] == 0]['Age'].mean()\n",
        "print(f\"Average age of survived: {ave_age_survived:.2f}\")\n",
        "print(f\"Average age of not survived: {ave_age_not_survived:.2f}\")\n",
        "\n",
        "plt.figure(figsize=(12, 6))\n",
        "sns.histplot(dataset[dataset['Sex'] == 'Male']['Age'].dropna(), color='skyblue', label='Male', kde=True, bins=30)\n",
        "sns.histplot(dataset[dataset['Sex'] == 'Female']['Age'].dropna(), color='pink', label='Female', kde=True, bins=30)\n",
        "plt.title('Age distribution by gender')\n",
        "plt.xlabel('Age')\n",
        "plt.ylabel('Quantity')\n",
        "plt.legend()\n",
        "plt.show()"
      ],
      "metadata": {
        "colab": {
          "base_uri": "https://localhost:8080/",
          "height": 1000
        },
        "id": "tyz1f6CW8DhR",
        "outputId": "c25ba491-751b-42df-a3cc-76feede225ae"
      },
      "execution_count": 49,
      "outputs": [
        {
          "output_type": "display_data",
          "data": {
            "text/plain": [
              "<Figure size 1200x600 with 1 Axes>"
            ],
            "image/png": "[encoded data removed]"
          },
          "metadata": {}
        },
        {
          "output_type": "stream",
          "name": "stderr",
          "text": [
            "WARNING:matplotlib.legend:No artists with labels found to put in legend.  Note that artists whose label start with an underscore are ignored when legend() is called with no argument.\n"
          ]
        },
        {
          "output_type": "stream",
          "name": "stdout",
          "text": [
            "Average age of survived: 28.34\n",
            "Average age of not survived: 30.63\n"
          ]
        },
        {
          "output_type": "display_data",
          "data": {
            "text/plain": [
              "<Figure size 1200x600 with 1 Axes>"
            ],
            "image/png": "[encoded data removed]"
          },
          "metadata": {}
        }
      ]
    },
    {
      "cell_type": "markdown",
      "source": [
        "По первому графику видно, что в процентном соотношении больше всего выжило детей."
      ],
      "metadata": {
        "id": "lxqE4arb_saJ"
      }
    }
  ]
}